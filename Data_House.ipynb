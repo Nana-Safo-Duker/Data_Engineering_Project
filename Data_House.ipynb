{
 "cells": [
  {
   "cell_type": "code",
   "execution_count": 11,
   "metadata": {},
   "outputs": [
    {
     "data": {
      "text/html": [
       "<div>\n",
       "<style scoped>\n",
       "    .dataframe tbody tr th:only-of-type {\n",
       "        vertical-align: middle;\n",
       "    }\n",
       "\n",
       "    .dataframe tbody tr th {\n",
       "        vertical-align: top;\n",
       "    }\n",
       "\n",
       "    .dataframe thead th {\n",
       "        text-align: right;\n",
       "    }\n",
       "</style>\n",
       "<table border=\"1\" class=\"dataframe\">\n",
       "  <thead>\n",
       "    <tr style=\"text-align: right;\">\n",
       "      <th></th>\n",
       "      <th>student_id</th>\n",
       "      <th>name</th>\n",
       "      <th>age</th>\n",
       "      <th>gender</th>\n",
       "      <th>course</th>\n",
       "      <th>enrollment_date</th>\n",
       "      <th>final_grade</th>\n",
       "      <th>is_intern</th>\n",
       "    </tr>\n",
       "  </thead>\n",
       "  <tbody>\n",
       "    <tr>\n",
       "      <th>0</th>\n",
       "      <td>S0001</td>\n",
       "      <td>Student_1</td>\n",
       "      <td>30</td>\n",
       "      <td>Female</td>\n",
       "      <td>Data Science</td>\n",
       "      <td>2023-03-22</td>\n",
       "      <td>97</td>\n",
       "      <td>No</td>\n",
       "    </tr>\n",
       "    <tr>\n",
       "      <th>1</th>\n",
       "      <td>S0002</td>\n",
       "      <td>Student_2</td>\n",
       "      <td>33</td>\n",
       "      <td>Female</td>\n",
       "      <td>Data Science</td>\n",
       "      <td>2023-01-29</td>\n",
       "      <td>64</td>\n",
       "      <td>No</td>\n",
       "    </tr>\n",
       "    <tr>\n",
       "      <th>2</th>\n",
       "      <td>S0003</td>\n",
       "      <td>Student_3</td>\n",
       "      <td>39</td>\n",
       "      <td>Female</td>\n",
       "      <td>Data Engineering</td>\n",
       "      <td>2023-12-24</td>\n",
       "      <td>97</td>\n",
       "      <td>No</td>\n",
       "    </tr>\n",
       "    <tr>\n",
       "      <th>3</th>\n",
       "      <td>S0004</td>\n",
       "      <td>Student_4</td>\n",
       "      <td>18</td>\n",
       "      <td>Male</td>\n",
       "      <td>Data Engineering</td>\n",
       "      <td>2023-01-09</td>\n",
       "      <td>89</td>\n",
       "      <td>Yes</td>\n",
       "    </tr>\n",
       "    <tr>\n",
       "      <th>4</th>\n",
       "      <td>S0005</td>\n",
       "      <td>Student_5</td>\n",
       "      <td>21</td>\n",
       "      <td>Female</td>\n",
       "      <td>Cloud Computing</td>\n",
       "      <td>2023-05-26</td>\n",
       "      <td>65</td>\n",
       "      <td>No</td>\n",
       "    </tr>\n",
       "    <tr>\n",
       "      <th>...</th>\n",
       "      <td>...</td>\n",
       "      <td>...</td>\n",
       "      <td>...</td>\n",
       "      <td>...</td>\n",
       "      <td>...</td>\n",
       "      <td>...</td>\n",
       "      <td>...</td>\n",
       "      <td>...</td>\n",
       "    </tr>\n",
       "    <tr>\n",
       "      <th>995</th>\n",
       "      <td>S0996</td>\n",
       "      <td>Student_996</td>\n",
       "      <td>25</td>\n",
       "      <td>Female</td>\n",
       "      <td>Data Engineering</td>\n",
       "      <td>2023-05-25</td>\n",
       "      <td>52</td>\n",
       "      <td>Yes</td>\n",
       "    </tr>\n",
       "    <tr>\n",
       "      <th>996</th>\n",
       "      <td>S0997</td>\n",
       "      <td>Student_997</td>\n",
       "      <td>40</td>\n",
       "      <td>Male</td>\n",
       "      <td>AI Fundamentals</td>\n",
       "      <td>2023-08-15</td>\n",
       "      <td>90</td>\n",
       "      <td>No</td>\n",
       "    </tr>\n",
       "    <tr>\n",
       "      <th>997</th>\n",
       "      <td>S0998</td>\n",
       "      <td>Student_998</td>\n",
       "      <td>20</td>\n",
       "      <td>Female</td>\n",
       "      <td>Cloud Computing</td>\n",
       "      <td>2023-04-22</td>\n",
       "      <td>100</td>\n",
       "      <td>No</td>\n",
       "    </tr>\n",
       "    <tr>\n",
       "      <th>998</th>\n",
       "      <td>S0999</td>\n",
       "      <td>Student_999</td>\n",
       "      <td>40</td>\n",
       "      <td>Female</td>\n",
       "      <td>Cloud Computing</td>\n",
       "      <td>2023-07-04</td>\n",
       "      <td>67</td>\n",
       "      <td>No</td>\n",
       "    </tr>\n",
       "    <tr>\n",
       "      <th>999</th>\n",
       "      <td>S1000</td>\n",
       "      <td>Student_1000</td>\n",
       "      <td>34</td>\n",
       "      <td>Male</td>\n",
       "      <td>AI Fundamentals</td>\n",
       "      <td>2023-09-09</td>\n",
       "      <td>90</td>\n",
       "      <td>Yes</td>\n",
       "    </tr>\n",
       "  </tbody>\n",
       "</table>\n",
       "<p>1000 rows × 8 columns</p>\n",
       "</div>"
      ],
      "text/plain": [
       "    student_id          name  age  gender            course enrollment_date  \\\n",
       "0        S0001     Student_1   30  Female      Data Science      2023-03-22   \n",
       "1        S0002     Student_2   33  Female      Data Science      2023-01-29   \n",
       "2        S0003     Student_3   39  Female  Data Engineering      2023-12-24   \n",
       "3        S0004     Student_4   18    Male  Data Engineering      2023-01-09   \n",
       "4        S0005     Student_5   21  Female   Cloud Computing      2023-05-26   \n",
       "..         ...           ...  ...     ...               ...             ...   \n",
       "995      S0996   Student_996   25  Female  Data Engineering      2023-05-25   \n",
       "996      S0997   Student_997   40    Male   AI Fundamentals      2023-08-15   \n",
       "997      S0998   Student_998   20  Female   Cloud Computing      2023-04-22   \n",
       "998      S0999   Student_999   40  Female   Cloud Computing      2023-07-04   \n",
       "999      S1000  Student_1000   34    Male   AI Fundamentals      2023-09-09   \n",
       "\n",
       "     final_grade is_intern  \n",
       "0             97        No  \n",
       "1             64        No  \n",
       "2             97        No  \n",
       "3             89       Yes  \n",
       "4             65        No  \n",
       "..           ...       ...  \n",
       "995           52       Yes  \n",
       "996           90        No  \n",
       "997          100        No  \n",
       "998           67        No  \n",
       "999           90       Yes  \n",
       "\n",
       "[1000 rows x 8 columns]"
      ]
     },
     "execution_count": 11,
     "metadata": {},
     "output_type": "execute_result"
    }
   ],
   "source": [
    "import pandas as pd\n",
    "import datasist as ds  #import datasist library\n",
    "import numpy as np\n",
    "df = pd.read_csv('C:\\\\Users\\\\fresh\\\\Desktop\\\\MY_COURSES\\\\3_TRESTLE_ACADEMY\\\\Data_Engineering_Track\\\\trestle_academy_dataset.csv')\n",
    "df"
   ]
  },
  {
   "cell_type": "code",
   "execution_count": 12,
   "metadata": {},
   "outputs": [
    {
     "name": "stdout",
     "output_type": "stream",
     "text": [
      "First five data points\n"
     ]
    },
    {
     "data": {
      "text/html": [
       "<div>\n",
       "<style scoped>\n",
       "    .dataframe tbody tr th:only-of-type {\n",
       "        vertical-align: middle;\n",
       "    }\n",
       "\n",
       "    .dataframe tbody tr th {\n",
       "        vertical-align: top;\n",
       "    }\n",
       "\n",
       "    .dataframe thead th {\n",
       "        text-align: right;\n",
       "    }\n",
       "</style>\n",
       "<table border=\"1\" class=\"dataframe\">\n",
       "  <thead>\n",
       "    <tr style=\"text-align: right;\">\n",
       "      <th></th>\n",
       "      <th>student_id</th>\n",
       "      <th>name</th>\n",
       "      <th>age</th>\n",
       "      <th>gender</th>\n",
       "      <th>course</th>\n",
       "      <th>enrollment_date</th>\n",
       "      <th>final_grade</th>\n",
       "      <th>is_intern</th>\n",
       "    </tr>\n",
       "  </thead>\n",
       "  <tbody>\n",
       "    <tr>\n",
       "      <th>0</th>\n",
       "      <td>S0001</td>\n",
       "      <td>Student_1</td>\n",
       "      <td>30</td>\n",
       "      <td>Female</td>\n",
       "      <td>Data Science</td>\n",
       "      <td>2023-03-22</td>\n",
       "      <td>97</td>\n",
       "      <td>No</td>\n",
       "    </tr>\n",
       "    <tr>\n",
       "      <th>1</th>\n",
       "      <td>S0002</td>\n",
       "      <td>Student_2</td>\n",
       "      <td>33</td>\n",
       "      <td>Female</td>\n",
       "      <td>Data Science</td>\n",
       "      <td>2023-01-29</td>\n",
       "      <td>64</td>\n",
       "      <td>No</td>\n",
       "    </tr>\n",
       "    <tr>\n",
       "      <th>2</th>\n",
       "      <td>S0003</td>\n",
       "      <td>Student_3</td>\n",
       "      <td>39</td>\n",
       "      <td>Female</td>\n",
       "      <td>Data Engineering</td>\n",
       "      <td>2023-12-24</td>\n",
       "      <td>97</td>\n",
       "      <td>No</td>\n",
       "    </tr>\n",
       "    <tr>\n",
       "      <th>3</th>\n",
       "      <td>S0004</td>\n",
       "      <td>Student_4</td>\n",
       "      <td>18</td>\n",
       "      <td>Male</td>\n",
       "      <td>Data Engineering</td>\n",
       "      <td>2023-01-09</td>\n",
       "      <td>89</td>\n",
       "      <td>Yes</td>\n",
       "    </tr>\n",
       "    <tr>\n",
       "      <th>4</th>\n",
       "      <td>S0005</td>\n",
       "      <td>Student_5</td>\n",
       "      <td>21</td>\n",
       "      <td>Female</td>\n",
       "      <td>Cloud Computing</td>\n",
       "      <td>2023-05-26</td>\n",
       "      <td>65</td>\n",
       "      <td>No</td>\n",
       "    </tr>\n",
       "  </tbody>\n",
       "</table>\n",
       "</div>"
      ],
      "text/plain": [
       "  student_id       name  age  gender            course enrollment_date  \\\n",
       "0      S0001  Student_1   30  Female      Data Science      2023-03-22   \n",
       "1      S0002  Student_2   33  Female      Data Science      2023-01-29   \n",
       "2      S0003  Student_3   39  Female  Data Engineering      2023-12-24   \n",
       "3      S0004  Student_4   18    Male  Data Engineering      2023-01-09   \n",
       "4      S0005  Student_5   21  Female   Cloud Computing      2023-05-26   \n",
       "\n",
       "   final_grade is_intern  \n",
       "0           97        No  \n",
       "1           64        No  \n",
       "2           97        No  \n",
       "3           89       Yes  \n",
       "4           65        No  "
      ]
     },
     "metadata": {},
     "output_type": "display_data"
    },
    {
     "name": "stdout",
     "output_type": "stream",
     "text": [
      "\n",
      "\n",
      "Random five data points\n"
     ]
    },
    {
     "data": {
      "text/html": [
       "<div>\n",
       "<style scoped>\n",
       "    .dataframe tbody tr th:only-of-type {\n",
       "        vertical-align: middle;\n",
       "    }\n",
       "\n",
       "    .dataframe tbody tr th {\n",
       "        vertical-align: top;\n",
       "    }\n",
       "\n",
       "    .dataframe thead th {\n",
       "        text-align: right;\n",
       "    }\n",
       "</style>\n",
       "<table border=\"1\" class=\"dataframe\">\n",
       "  <thead>\n",
       "    <tr style=\"text-align: right;\">\n",
       "      <th></th>\n",
       "      <th>student_id</th>\n",
       "      <th>name</th>\n",
       "      <th>age</th>\n",
       "      <th>gender</th>\n",
       "      <th>course</th>\n",
       "      <th>enrollment_date</th>\n",
       "      <th>final_grade</th>\n",
       "      <th>is_intern</th>\n",
       "    </tr>\n",
       "  </thead>\n",
       "  <tbody>\n",
       "    <tr>\n",
       "      <th>773</th>\n",
       "      <td>S0774</td>\n",
       "      <td>Student_774</td>\n",
       "      <td>30</td>\n",
       "      <td>Male</td>\n",
       "      <td>AI Fundamentals</td>\n",
       "      <td>2023-02-05</td>\n",
       "      <td>54</td>\n",
       "      <td>Yes</td>\n",
       "    </tr>\n",
       "    <tr>\n",
       "      <th>223</th>\n",
       "      <td>S0224</td>\n",
       "      <td>Student_224</td>\n",
       "      <td>31</td>\n",
       "      <td>Male</td>\n",
       "      <td>Data Engineering</td>\n",
       "      <td>2023-12-15</td>\n",
       "      <td>82</td>\n",
       "      <td>Yes</td>\n",
       "    </tr>\n",
       "    <tr>\n",
       "      <th>16</th>\n",
       "      <td>S0017</td>\n",
       "      <td>Student_17</td>\n",
       "      <td>30</td>\n",
       "      <td>Female</td>\n",
       "      <td>Data Engineering</td>\n",
       "      <td>2023-01-13</td>\n",
       "      <td>76</td>\n",
       "      <td>Yes</td>\n",
       "    </tr>\n",
       "    <tr>\n",
       "      <th>426</th>\n",
       "      <td>S0427</td>\n",
       "      <td>Student_427</td>\n",
       "      <td>41</td>\n",
       "      <td>Female</td>\n",
       "      <td>Data Science</td>\n",
       "      <td>2023-05-06</td>\n",
       "      <td>51</td>\n",
       "      <td>Yes</td>\n",
       "    </tr>\n",
       "    <tr>\n",
       "      <th>470</th>\n",
       "      <td>S0471</td>\n",
       "      <td>Student_471</td>\n",
       "      <td>41</td>\n",
       "      <td>Male</td>\n",
       "      <td>Cloud Computing</td>\n",
       "      <td>2023-11-10</td>\n",
       "      <td>51</td>\n",
       "      <td>No</td>\n",
       "    </tr>\n",
       "  </tbody>\n",
       "</table>\n",
       "</div>"
      ],
      "text/plain": [
       "    student_id         name  age  gender            course enrollment_date  \\\n",
       "773      S0774  Student_774   30    Male   AI Fundamentals      2023-02-05   \n",
       "223      S0224  Student_224   31    Male  Data Engineering      2023-12-15   \n",
       "16       S0017   Student_17   30  Female  Data Engineering      2023-01-13   \n",
       "426      S0427  Student_427   41  Female      Data Science      2023-05-06   \n",
       "470      S0471  Student_471   41    Male   Cloud Computing      2023-11-10   \n",
       "\n",
       "     final_grade is_intern  \n",
       "773           54       Yes  \n",
       "223           82       Yes  \n",
       "16            76       Yes  \n",
       "426           51       Yes  \n",
       "470           51        No  "
      ]
     },
     "metadata": {},
     "output_type": "display_data"
    },
    {
     "name": "stdout",
     "output_type": "stream",
     "text": [
      "\n",
      "\n",
      "Last five data points\n"
     ]
    },
    {
     "data": {
      "text/html": [
       "<div>\n",
       "<style scoped>\n",
       "    .dataframe tbody tr th:only-of-type {\n",
       "        vertical-align: middle;\n",
       "    }\n",
       "\n",
       "    .dataframe tbody tr th {\n",
       "        vertical-align: top;\n",
       "    }\n",
       "\n",
       "    .dataframe thead th {\n",
       "        text-align: right;\n",
       "    }\n",
       "</style>\n",
       "<table border=\"1\" class=\"dataframe\">\n",
       "  <thead>\n",
       "    <tr style=\"text-align: right;\">\n",
       "      <th></th>\n",
       "      <th>student_id</th>\n",
       "      <th>name</th>\n",
       "      <th>age</th>\n",
       "      <th>gender</th>\n",
       "      <th>course</th>\n",
       "      <th>enrollment_date</th>\n",
       "      <th>final_grade</th>\n",
       "      <th>is_intern</th>\n",
       "    </tr>\n",
       "  </thead>\n",
       "  <tbody>\n",
       "    <tr>\n",
       "      <th>995</th>\n",
       "      <td>S0996</td>\n",
       "      <td>Student_996</td>\n",
       "      <td>25</td>\n",
       "      <td>Female</td>\n",
       "      <td>Data Engineering</td>\n",
       "      <td>2023-05-25</td>\n",
       "      <td>52</td>\n",
       "      <td>Yes</td>\n",
       "    </tr>\n",
       "    <tr>\n",
       "      <th>996</th>\n",
       "      <td>S0997</td>\n",
       "      <td>Student_997</td>\n",
       "      <td>40</td>\n",
       "      <td>Male</td>\n",
       "      <td>AI Fundamentals</td>\n",
       "      <td>2023-08-15</td>\n",
       "      <td>90</td>\n",
       "      <td>No</td>\n",
       "    </tr>\n",
       "    <tr>\n",
       "      <th>997</th>\n",
       "      <td>S0998</td>\n",
       "      <td>Student_998</td>\n",
       "      <td>20</td>\n",
       "      <td>Female</td>\n",
       "      <td>Cloud Computing</td>\n",
       "      <td>2023-04-22</td>\n",
       "      <td>100</td>\n",
       "      <td>No</td>\n",
       "    </tr>\n",
       "    <tr>\n",
       "      <th>998</th>\n",
       "      <td>S0999</td>\n",
       "      <td>Student_999</td>\n",
       "      <td>40</td>\n",
       "      <td>Female</td>\n",
       "      <td>Cloud Computing</td>\n",
       "      <td>2023-07-04</td>\n",
       "      <td>67</td>\n",
       "      <td>No</td>\n",
       "    </tr>\n",
       "    <tr>\n",
       "      <th>999</th>\n",
       "      <td>S1000</td>\n",
       "      <td>Student_1000</td>\n",
       "      <td>34</td>\n",
       "      <td>Male</td>\n",
       "      <td>AI Fundamentals</td>\n",
       "      <td>2023-09-09</td>\n",
       "      <td>90</td>\n",
       "      <td>Yes</td>\n",
       "    </tr>\n",
       "  </tbody>\n",
       "</table>\n",
       "</div>"
      ],
      "text/plain": [
       "    student_id          name  age  gender            course enrollment_date  \\\n",
       "995      S0996   Student_996   25  Female  Data Engineering      2023-05-25   \n",
       "996      S0997   Student_997   40    Male   AI Fundamentals      2023-08-15   \n",
       "997      S0998   Student_998   20  Female   Cloud Computing      2023-04-22   \n",
       "998      S0999   Student_999   40  Female   Cloud Computing      2023-07-04   \n",
       "999      S1000  Student_1000   34    Male   AI Fundamentals      2023-09-09   \n",
       "\n",
       "     final_grade is_intern  \n",
       "995           52       Yes  \n",
       "996           90        No  \n",
       "997          100        No  \n",
       "998           67        No  \n",
       "999           90       Yes  "
      ]
     },
     "metadata": {},
     "output_type": "display_data"
    },
    {
     "name": "stdout",
     "output_type": "stream",
     "text": [
      "\n",
      "\n",
      "Shape of  data set: (1000, 8)\n",
      "\n",
      "\n",
      "Size of  data set: 8000\n",
      "\n",
      "\n",
      "Data Types\n",
      "Note: All Non-numerical features are identified as objects in pandas\n"
     ]
    },
    {
     "data": {
      "text/html": [
       "<div>\n",
       "<style scoped>\n",
       "    .dataframe tbody tr th:only-of-type {\n",
       "        vertical-align: middle;\n",
       "    }\n",
       "\n",
       "    .dataframe tbody tr th {\n",
       "        vertical-align: top;\n",
       "    }\n",
       "\n",
       "    .dataframe thead th {\n",
       "        text-align: right;\n",
       "    }\n",
       "</style>\n",
       "<table border=\"1\" class=\"dataframe\">\n",
       "  <thead>\n",
       "    <tr style=\"text-align: right;\">\n",
       "      <th></th>\n",
       "      <th>Data Type</th>\n",
       "    </tr>\n",
       "  </thead>\n",
       "  <tbody>\n",
       "    <tr>\n",
       "      <th>student_id</th>\n",
       "      <td>object</td>\n",
       "    </tr>\n",
       "    <tr>\n",
       "      <th>name</th>\n",
       "      <td>object</td>\n",
       "    </tr>\n",
       "    <tr>\n",
       "      <th>age</th>\n",
       "      <td>int64</td>\n",
       "    </tr>\n",
       "    <tr>\n",
       "      <th>gender</th>\n",
       "      <td>object</td>\n",
       "    </tr>\n",
       "    <tr>\n",
       "      <th>course</th>\n",
       "      <td>object</td>\n",
       "    </tr>\n",
       "    <tr>\n",
       "      <th>enrollment_date</th>\n",
       "      <td>object</td>\n",
       "    </tr>\n",
       "    <tr>\n",
       "      <th>final_grade</th>\n",
       "      <td>int64</td>\n",
       "    </tr>\n",
       "    <tr>\n",
       "      <th>is_intern</th>\n",
       "      <td>object</td>\n",
       "    </tr>\n",
       "  </tbody>\n",
       "</table>\n",
       "</div>"
      ],
      "text/plain": [
       "                Data Type\n",
       "student_id         object\n",
       "name               object\n",
       "age                 int64\n",
       "gender             object\n",
       "course             object\n",
       "enrollment_date    object\n",
       "final_grade         int64\n",
       "is_intern          object"
      ]
     },
     "metadata": {},
     "output_type": "display_data"
    },
    {
     "name": "stdout",
     "output_type": "stream",
     "text": [
      "\n",
      "\n",
      "Column(s) {'enrollment_date'} should be in Datetime format. Use the [to_date] function in datasist.feature_engineering to convert to Pandas Datetime format\n",
      "\n",
      "\n",
      "Numerical Features in Data set\n",
      "['age', 'final_grade']\n",
      "\n",
      "\n",
      "Categorical Features in Data set\n"
     ]
    },
    {
     "data": {
      "text/plain": [
       "['student_id', 'name', 'gender', 'course', 'enrollment_date', 'is_intern']"
      ]
     },
     "metadata": {},
     "output_type": "display_data"
    },
    {
     "name": "stdout",
     "output_type": "stream",
     "text": [
      "\n",
      "\n",
      "Statistical Description of Columns\n"
     ]
    },
    {
     "data": {
      "text/html": [
       "<div>\n",
       "<style scoped>\n",
       "    .dataframe tbody tr th:only-of-type {\n",
       "        vertical-align: middle;\n",
       "    }\n",
       "\n",
       "    .dataframe tbody tr th {\n",
       "        vertical-align: top;\n",
       "    }\n",
       "\n",
       "    .dataframe thead th {\n",
       "        text-align: right;\n",
       "    }\n",
       "</style>\n",
       "<table border=\"1\" class=\"dataframe\">\n",
       "  <thead>\n",
       "    <tr style=\"text-align: right;\">\n",
       "      <th></th>\n",
       "      <th>age</th>\n",
       "      <th>final_grade</th>\n",
       "    </tr>\n",
       "  </thead>\n",
       "  <tbody>\n",
       "    <tr>\n",
       "      <th>count</th>\n",
       "      <td>1000.000000</td>\n",
       "      <td>1000.000000</td>\n",
       "    </tr>\n",
       "    <tr>\n",
       "      <th>mean</th>\n",
       "      <td>30.731000</td>\n",
       "      <td>75.766000</td>\n",
       "    </tr>\n",
       "    <tr>\n",
       "      <th>std</th>\n",
       "      <td>7.857887</td>\n",
       "      <td>15.195004</td>\n",
       "    </tr>\n",
       "    <tr>\n",
       "      <th>min</th>\n",
       "      <td>18.000000</td>\n",
       "      <td>50.000000</td>\n",
       "    </tr>\n",
       "    <tr>\n",
       "      <th>25%</th>\n",
       "      <td>24.000000</td>\n",
       "      <td>62.000000</td>\n",
       "    </tr>\n",
       "    <tr>\n",
       "      <th>50%</th>\n",
       "      <td>31.000000</td>\n",
       "      <td>76.000000</td>\n",
       "    </tr>\n",
       "    <tr>\n",
       "      <th>75%</th>\n",
       "      <td>37.000000</td>\n",
       "      <td>89.000000</td>\n",
       "    </tr>\n",
       "    <tr>\n",
       "      <th>max</th>\n",
       "      <td>44.000000</td>\n",
       "      <td>100.000000</td>\n",
       "    </tr>\n",
       "  </tbody>\n",
       "</table>\n",
       "</div>"
      ],
      "text/plain": [
       "               age  final_grade\n",
       "count  1000.000000  1000.000000\n",
       "mean     30.731000    75.766000\n",
       "std       7.857887    15.195004\n",
       "min      18.000000    50.000000\n",
       "25%      24.000000    62.000000\n",
       "50%      31.000000    76.000000\n",
       "75%      37.000000    89.000000\n",
       "max      44.000000   100.000000"
      ]
     },
     "metadata": {},
     "output_type": "display_data"
    },
    {
     "name": "stdout",
     "output_type": "stream",
     "text": [
      "\n",
      "\n",
      "Description of Categorical Features\n"
     ]
    },
    {
     "name": "stderr",
     "output_type": "stream",
     "text": [
      "c:\\Users\\fresh\\anaconda3\\Lib\\site-packages\\datasist\\structdata.py:99: FutureWarning: In the future `np.object` will be defined as the corresponding NumPy scalar.\n",
      "  display(data.describe(include=[np.object, pd.Categorical]).T)\n"
     ]
    },
    {
     "ename": "AttributeError",
     "evalue": "module 'numpy' has no attribute 'object'.\n`np.object` was a deprecated alias for the builtin `object`. To avoid this error in existing code, use `object` by itself. Doing this will not modify any behavior and is safe. \nThe aliases was originally deprecated in NumPy 1.20; for more details and guidance see the original release note at:\n    https://numpy.org/devdocs/release/1.20.0-notes.html#deprecations",
     "output_type": "error",
     "traceback": [
      "\u001b[1;31m---------------------------------------------------------------------------\u001b[0m",
      "\u001b[1;31mAttributeError\u001b[0m                            Traceback (most recent call last)",
      "Cell \u001b[1;32mIn[12], line 1\u001b[0m\n\u001b[1;32m----> 1\u001b[0m ds\u001b[38;5;241m.\u001b[39mstructdata\u001b[38;5;241m.\u001b[39mdescribe(df)\n",
      "File \u001b[1;32mc:\\Users\\fresh\\anaconda3\\Lib\\site-packages\\datasist\\structdata.py:99\u001b[0m, in \u001b[0;36mdescribe\u001b[1;34m(data, name, date_cols, show_categories, plot_missing)\u001b[0m\n\u001b[0;32m     97\u001b[0m \u001b[38;5;28mprint\u001b[39m(\u001b[38;5;124m'\u001b[39m\u001b[38;5;124mDescription of Categorical Features\u001b[39m\u001b[38;5;124m'\u001b[39m)\n\u001b[0;32m     98\u001b[0m \u001b[38;5;28;01mif\u001b[39;00m cat_features \u001b[38;5;241m!=\u001b[39m \u001b[38;5;28;01mNone\u001b[39;00m:\n\u001b[1;32m---> 99\u001b[0m     display(data\u001b[38;5;241m.\u001b[39mdescribe(include\u001b[38;5;241m=\u001b[39m[np\u001b[38;5;241m.\u001b[39mobject, pd\u001b[38;5;241m.\u001b[39mCategorical])\u001b[38;5;241m.\u001b[39mT)\n\u001b[0;32m    100\u001b[0m     _space()\n\u001b[0;32m    102\u001b[0m \u001b[38;5;28mprint\u001b[39m(\u001b[38;5;124m'\u001b[39m\u001b[38;5;124mUnique class Count of Categorical features\u001b[39m\u001b[38;5;124m'\u001b[39m)\n",
      "File \u001b[1;32mc:\\Users\\fresh\\anaconda3\\Lib\\site-packages\\numpy\\__init__.py:324\u001b[0m, in \u001b[0;36m__getattr__\u001b[1;34m(attr)\u001b[0m\n\u001b[0;32m    319\u001b[0m     warnings\u001b[38;5;241m.\u001b[39mwarn(\n\u001b[0;32m    320\u001b[0m         \u001b[38;5;124mf\u001b[39m\u001b[38;5;124m\"\u001b[39m\u001b[38;5;124mIn the future `np.\u001b[39m\u001b[38;5;132;01m{\u001b[39;00mattr\u001b[38;5;132;01m}\u001b[39;00m\u001b[38;5;124m` will be defined as the \u001b[39m\u001b[38;5;124m\"\u001b[39m\n\u001b[0;32m    321\u001b[0m         \u001b[38;5;124m\"\u001b[39m\u001b[38;5;124mcorresponding NumPy scalar.\u001b[39m\u001b[38;5;124m\"\u001b[39m, \u001b[38;5;167;01mFutureWarning\u001b[39;00m, stacklevel\u001b[38;5;241m=\u001b[39m\u001b[38;5;241m2\u001b[39m)\n\u001b[0;32m    323\u001b[0m \u001b[38;5;28;01mif\u001b[39;00m attr \u001b[38;5;129;01min\u001b[39;00m __former_attrs__:\n\u001b[1;32m--> 324\u001b[0m     \u001b[38;5;28;01mraise\u001b[39;00m \u001b[38;5;167;01mAttributeError\u001b[39;00m(__former_attrs__[attr])\n\u001b[0;32m    326\u001b[0m \u001b[38;5;28;01mif\u001b[39;00m attr \u001b[38;5;241m==\u001b[39m \u001b[38;5;124m'\u001b[39m\u001b[38;5;124mtesting\u001b[39m\u001b[38;5;124m'\u001b[39m:\n\u001b[0;32m    327\u001b[0m     \u001b[38;5;28;01mimport\u001b[39;00m \u001b[38;5;21;01mnumpy\u001b[39;00m\u001b[38;5;21;01m.\u001b[39;00m\u001b[38;5;21;01mtesting\u001b[39;00m \u001b[38;5;28;01mas\u001b[39;00m \u001b[38;5;21;01mtesting\u001b[39;00m\n",
      "\u001b[1;31mAttributeError\u001b[0m: module 'numpy' has no attribute 'object'.\n`np.object` was a deprecated alias for the builtin `object`. To avoid this error in existing code, use `object` by itself. Doing this will not modify any behavior and is safe. \nThe aliases was originally deprecated in NumPy 1.20; for more details and guidance see the original release note at:\n    https://numpy.org/devdocs/release/1.20.0-notes.html#deprecations"
     ]
    }
   ],
   "source": [
    "ds.structdata.describe(df)"
   ]
  },
  {
   "cell_type": "code",
   "execution_count": 13,
   "metadata": {},
   "outputs": [
    {
     "name": "stdout",
     "output_type": "stream",
     "text": [
      "<class 'pandas.core.frame.DataFrame'>\n",
      "RangeIndex: 1000 entries, 0 to 999\n",
      "Data columns (total 8 columns):\n",
      " #   Column           Non-Null Count  Dtype \n",
      "---  ------           --------------  ----- \n",
      " 0   student_id       1000 non-null   object\n",
      " 1   name             1000 non-null   object\n",
      " 2   age              1000 non-null   int64 \n",
      " 3   gender           1000 non-null   object\n",
      " 4   course           1000 non-null   object\n",
      " 5   enrollment_date  1000 non-null   object\n",
      " 6   final_grade      1000 non-null   int64 \n",
      " 7   is_intern        1000 non-null   object\n",
      "dtypes: int64(2), object(6)\n",
      "memory usage: 62.6+ KB\n"
     ]
    }
   ],
   "source": [
    "df.info()"
   ]
  },
  {
   "cell_type": "code",
   "execution_count": 14,
   "metadata": {},
   "outputs": [
    {
     "data": {
      "text/html": [
       "<div>\n",
       "<style scoped>\n",
       "    .dataframe tbody tr th:only-of-type {\n",
       "        vertical-align: middle;\n",
       "    }\n",
       "\n",
       "    .dataframe tbody tr th {\n",
       "        vertical-align: top;\n",
       "    }\n",
       "\n",
       "    .dataframe thead th {\n",
       "        text-align: right;\n",
       "    }\n",
       "</style>\n",
       "<table border=\"1\" class=\"dataframe\">\n",
       "  <thead>\n",
       "    <tr style=\"text-align: right;\">\n",
       "      <th></th>\n",
       "      <th>age</th>\n",
       "      <th>final_grade</th>\n",
       "    </tr>\n",
       "  </thead>\n",
       "  <tbody>\n",
       "    <tr>\n",
       "      <th>count</th>\n",
       "      <td>1000.000000</td>\n",
       "      <td>1000.000000</td>\n",
       "    </tr>\n",
       "    <tr>\n",
       "      <th>mean</th>\n",
       "      <td>30.731000</td>\n",
       "      <td>75.766000</td>\n",
       "    </tr>\n",
       "    <tr>\n",
       "      <th>std</th>\n",
       "      <td>7.857887</td>\n",
       "      <td>15.195004</td>\n",
       "    </tr>\n",
       "    <tr>\n",
       "      <th>min</th>\n",
       "      <td>18.000000</td>\n",
       "      <td>50.000000</td>\n",
       "    </tr>\n",
       "    <tr>\n",
       "      <th>25%</th>\n",
       "      <td>24.000000</td>\n",
       "      <td>62.000000</td>\n",
       "    </tr>\n",
       "    <tr>\n",
       "      <th>50%</th>\n",
       "      <td>31.000000</td>\n",
       "      <td>76.000000</td>\n",
       "    </tr>\n",
       "    <tr>\n",
       "      <th>75%</th>\n",
       "      <td>37.000000</td>\n",
       "      <td>89.000000</td>\n",
       "    </tr>\n",
       "    <tr>\n",
       "      <th>max</th>\n",
       "      <td>44.000000</td>\n",
       "      <td>100.000000</td>\n",
       "    </tr>\n",
       "  </tbody>\n",
       "</table>\n",
       "</div>"
      ],
      "text/plain": [
       "               age  final_grade\n",
       "count  1000.000000  1000.000000\n",
       "mean     30.731000    75.766000\n",
       "std       7.857887    15.195004\n",
       "min      18.000000    50.000000\n",
       "25%      24.000000    62.000000\n",
       "50%      31.000000    76.000000\n",
       "75%      37.000000    89.000000\n",
       "max      44.000000   100.000000"
      ]
     },
     "execution_count": 14,
     "metadata": {},
     "output_type": "execute_result"
    }
   ],
   "source": [
    "df.describe()"
   ]
  },
  {
   "cell_type": "code",
   "execution_count": 21,
   "metadata": {},
   "outputs": [
    {
     "data": {
      "application/vnd.jupyter.widget-view+json": {
       "model_id": "c14a9515be8640169c7edeb842cd9e19",
       "version_major": 2,
       "version_minor": 0
      },
      "text/plain": [
       "Summarize dataset:   0%|          | 0/5 [00:00<?, ?it/s]"
      ]
     },
     "metadata": {},
     "output_type": "display_data"
    },
    {
     "data": {
      "application/vnd.jupyter.widget-view+json": {
       "model_id": "a028fd939db44bcb9ffc1d2e6064120d",
       "version_major": 2,
       "version_minor": 0
      },
      "text/plain": [
       "Generate report structure:   0%|          | 0/1 [00:00<?, ?it/s]"
      ]
     },
     "metadata": {},
     "output_type": "display_data"
    },
    {
     "data": {
      "application/vnd.jupyter.widget-view+json": {
       "model_id": "08abc05ec5b24f23ad1c0d6b23208e31",
       "version_major": 2,
       "version_minor": 0
      },
      "text/plain": [
       "Render HTML:   0%|          | 0/1 [00:00<?, ?it/s]"
      ]
     },
     "metadata": {},
     "output_type": "display_data"
    },
    {
     "data": {
      "application/vnd.jupyter.widget-view+json": {
       "model_id": "e64cf349cc584f6d867ac7ef1aff56e4",
       "version_major": 2,
       "version_minor": 0
      },
      "text/plain": [
       "Export report to file:   0%|          | 0/1 [00:00<?, ?it/s]"
      ]
     },
     "metadata": {},
     "output_type": "display_data"
    }
   ],
   "source": [
    "#importing library\n",
    "from ydata_profiling import ProfileReport\n",
    "#defining the library\n",
    "profile = ProfileReport(df)\n",
    "# exporting your report as a html file\n",
    "profile.to_file(output_file='report.html')"
   ]
  },
  {
   "cell_type": "code",
   "execution_count": 16,
   "metadata": {},
   "outputs": [
    {
     "data": {
      "application/vnd.jupyter.widget-view+json": {
       "model_id": "e434fd3990d5421dadf123ba9ec59a58",
       "version_major": 2,
       "version_minor": 0
      },
      "text/plain": [
       "                                             |          | [  0%]   00:00 -> (? left)"
      ]
     },
     "metadata": {},
     "output_type": "display_data"
    },
    {
     "name": "stdout",
     "output_type": "stream",
     "text": [
      "Report sweetviz_report.html was generated! NOTEBOOK/COLAB USERS: the web browser MAY not pop up, regardless, the report IS saved in your notebook/colab files.\n"
     ]
    }
   ],
   "source": [
    "#importing sweetviz and visualizing our data\n",
    "import sweetviz as sv\n",
    "sweet_report = sv.analyze(df)\n",
    "sweet_report.show_html('sweetviz_report.html')"
   ]
  },
  {
   "cell_type": "code",
   "execution_count": null,
   "metadata": {},
   "outputs": [
    {
     "data": {
      "text/html": [
       "\n",
       "        <iframe\n",
       "            width=\"100%\"\n",
       "            height=\"475\"\n",
       "            src=\"http://DESKTOP-JHPHE8R:40000/dtale/iframe/1\"\n",
       "            frameborder=\"0\"\n",
       "            allowfullscreen\n",
       "            \n",
       "        ></iframe>\n",
       "        "
      ],
      "text/plain": [
       "<IPython.lib.display.IFrame at 0x1ee43432ed0>"
      ]
     },
     "metadata": {},
     "output_type": "display_data"
    },
    {
     "data": {
      "text/plain": []
     },
     "execution_count": 17,
     "metadata": {},
     "output_type": "execute_result"
    }
   ],
   "source": [
    "import dtale \n",
    "\n",
    "import dtale.app as dtale_app\n",
    "dtale_app.USE_Firefox = True\n",
    "dtale.show(df)"
   ]
  },
  {
   "cell_type": "code",
   "execution_count": null,
   "metadata": {},
   "outputs": [
    {
     "data": {
      "application/vnd.jupyter.widget-view+json": {
       "model_id": "2fa41d58f8784844ae031d448e11760d",
       "version_major": 2,
       "version_minor": 0
      },
      "text/plain": [
       "                                             |          | [  0%]   00:00 -> (? left)"
      ]
     },
     "metadata": {},
     "output_type": "display_data"
    },
    {
     "name": "stdout",
     "output_type": "stream",
     "text": [
      "Report sweetviz_report.html was generated! NOTEBOOK/COLAB USERS: the web browser MAY not pop up, regardless, the report IS saved in your notebook/colab files.\n"
     ]
    }
   ],
   "source": [
    "#importing sweetviz and visualizing our data\n",
    "import sweetviz as sv\n",
    "sweet_report = sv.analyze(df)\n",
    "sweet_report.show_html('sweetviz_report.html')"
   ]
  }
 ],
 "metadata": {
  "kernelspec": {
   "display_name": "base",
   "language": "python",
   "name": "python3"
  },
  "language_info": {
   "codemirror_mode": {
    "name": "ipython",
    "version": 3
   },
   "file_extension": ".py",
   "mimetype": "text/x-python",
   "name": "python",
   "nbconvert_exporter": "python",
   "pygments_lexer": "ipython3",
   "version": "3.12.7"
  }
 },
 "nbformat": 4,
 "nbformat_minor": 2
}
